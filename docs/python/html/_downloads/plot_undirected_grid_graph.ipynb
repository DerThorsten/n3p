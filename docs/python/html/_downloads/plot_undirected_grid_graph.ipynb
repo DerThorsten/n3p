{
  "cells": [
    {
      "cell_type": "code",
      "execution_count": null,
      "metadata": {
        "collapsed": false
      },
      "outputs": [],
      "source": [
        "%matplotlib inline"
      ]
    },
    {
      "cell_type": "markdown",
      "metadata": {},
      "source": [
        "\nUndirected Grid Graph \n=============================================\n\n2D and 3D undirected with simple neighborhood\n(4-neighborhood in 2D, 6-neighborhood in 3D)\n\n\n"
      ]
    },
    {
      "cell_type": "code",
      "execution_count": null,
      "metadata": {
        "collapsed": false
      },
      "outputs": [],
      "source": [
        "from __future__ import print_function\nimport nifty.graph\nimport pylab"
      ]
    },
    {
      "cell_type": "markdown",
      "metadata": {},
      "source": [
        "2D undirected grid graph\n\n"
      ]
    },
    {
      "cell_type": "code",
      "execution_count": null,
      "metadata": {
        "collapsed": false
      },
      "outputs": [],
      "source": [
        "shape = [3, 3]\ngraph = nifty.graph.undirectedGridGraph(shape)\nprint(\"#nodes\", graph.numberOfNodes)\nprint(\"#edges\", graph.numberOfEdges)\nprint(graph)"
      ]
    },
    {
      "cell_type": "markdown",
      "metadata": {},
      "source": [
        "iterate over nodes\nand the adjacency\nof each node\n\n"
      ]
    },
    {
      "cell_type": "code",
      "execution_count": null,
      "metadata": {
        "collapsed": false
      },
      "outputs": [],
      "source": [
        "for node in graph.nodes():\n    print(\"u\",node)\n    for v,e in graph.nodeAdjacency(node):\n        print(\" v\",v,\"e\",e)"
      ]
    },
    {
      "cell_type": "markdown",
      "metadata": {},
      "source": [
        "iterate over edges\nand print the endpoints\n\n"
      ]
    },
    {
      "cell_type": "code",
      "execution_count": null,
      "metadata": {
        "collapsed": false
      },
      "outputs": [],
      "source": [
        "for edge in graph.edges():\n    print(\"edge \",edge, \"uv:\", graph.uv(edge))"
      ]
    },
    {
      "cell_type": "markdown",
      "metadata": {},
      "source": [
        "get the uv-ids /endpoints\nfor all edges simultaneous\nas a numpy array\n\n"
      ]
    },
    {
      "cell_type": "code",
      "execution_count": null,
      "metadata": {
        "collapsed": false
      },
      "outputs": [],
      "source": [
        "uvIds = graph.uvIds()\nprint(uvIds)"
      ]
    },
    {
      "cell_type": "markdown",
      "metadata": {},
      "source": [
        "get the coordinates of a node\n\n"
      ]
    },
    {
      "cell_type": "code",
      "execution_count": null,
      "metadata": {
        "collapsed": false
      },
      "outputs": [],
      "source": [
        "for node in graph.nodes():\n    print(\"node\",node,\"coordiante\",graph.nodeToCoordinate(node))"
      ]
    },
    {
      "cell_type": "markdown",
      "metadata": {},
      "source": [
        "get the node of a coordinate\n\n"
      ]
    },
    {
      "cell_type": "code",
      "execution_count": null,
      "metadata": {
        "collapsed": false
      },
      "outputs": [],
      "source": [
        "for x0 in range(shape[0]):\n    for x1 in range(shape[1]):\n        print(\"coordiante\",[x0,x1],\"node\",graph.coordianteToNode([x0,x1]))"
      ]
    },
    {
      "cell_type": "markdown",
      "metadata": {},
      "source": [
        "plot the graph:\nneeds networkx\n\n"
      ]
    },
    {
      "cell_type": "code",
      "execution_count": null,
      "metadata": {
        "collapsed": false
      },
      "outputs": [],
      "source": [
        "nifty.graph.drawGraph(graph)\npylab.show()"
      ]
    }
  ],
  "metadata": {
    "kernelspec": {
      "display_name": "Python 3",
      "language": "python",
      "name": "python3"
    },
    "language_info": {
      "codemirror_mode": {
        "name": "ipython",
        "version": 3
      },
      "file_extension": ".py",
      "mimetype": "text/x-python",
      "name": "python",
      "nbconvert_exporter": "python",
      "pygments_lexer": "ipython3",
      "version": "3.6.1"
    }
  },
  "nbformat": 4,
  "nbformat_minor": 0
}