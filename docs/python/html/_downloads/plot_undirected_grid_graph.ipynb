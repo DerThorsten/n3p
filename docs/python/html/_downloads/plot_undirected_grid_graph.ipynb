{
  "metadata": {
    "kernelspec": {
      "display_name": "Python 3",
      "language": "python",
      "name": "python3"
    },
    "language_info": {
      "nbconvert_exporter": "python",
      "version": "3.5.3",
      "codemirror_mode": {
        "version": 3,
        "name": "ipython"
      },
      "mimetype": "text/x-python",
      "file_extension": ".py",
      "pygments_lexer": "ipython3",
      "name": "python"
    }
  },
  "nbformat": 4,
  "cells": [
    {
      "metadata": {
        "collapsed": false
      },
      "cell_type": "code",
      "execution_count": null,
      "source": [
        "%matplotlib inline"
      ],
      "outputs": []
    },
    {
      "metadata": {},
      "cell_type": "markdown",
      "source": [
        "\nUndirected Grid Graph \n=============================================\n\n2D and 3D undirected with simple neighborhood\n(4-neighborhood in 2D, 6-neighborhood in 3D)\n\n\n"
      ]
    },
    {
      "metadata": {
        "collapsed": false
      },
      "cell_type": "code",
      "execution_count": null,
      "source": [
        "from __future__ import print_function\nimport nifty.graph\nimport pylab"
      ],
      "outputs": []
    },
    {
      "metadata": {},
      "cell_type": "markdown",
      "source": [
        "2D undirected grid graph\n\n"
      ]
    },
    {
      "metadata": {
        "collapsed": false
      },
      "cell_type": "code",
      "execution_count": null,
      "source": [
        "shape = [3, 3]\ngraph = nifty.graph.undirectedGridGraph(shape)\nprint(\"#nodes\", graph.numberOfNodes)\nprint(\"#edges\", graph.numberOfEdges)\nprint(graph)"
      ],
      "outputs": []
    },
    {
      "metadata": {},
      "cell_type": "markdown",
      "source": [
        "iterate over nodes\nand the adjacency\nof each node\n\n"
      ]
    },
    {
      "metadata": {
        "collapsed": false
      },
      "cell_type": "code",
      "execution_count": null,
      "source": [
        "for node in graph.nodes():\n    print(\"u\",node)\n    for v,e in graph.nodeAdjacency(node):\n        print(\" v\",v,\"e\",e)"
      ],
      "outputs": []
    },
    {
      "metadata": {},
      "cell_type": "markdown",
      "source": [
        "iterate over edges\nand print the endpoints\n\n"
      ]
    },
    {
      "metadata": {
        "collapsed": false
      },
      "cell_type": "code",
      "execution_count": null,
      "source": [
        "for edge in graph.edges():\n    print(\"edge \",edge, \"uv:\", graph.uv(edge))"
      ],
      "outputs": []
    },
    {
      "metadata": {},
      "cell_type": "markdown",
      "source": [
        "get the uv-ids /endpoints\nfor all edges simultaneous\nas a numpy array\n\n"
      ]
    },
    {
      "metadata": {
        "collapsed": false
      },
      "cell_type": "code",
      "execution_count": null,
      "source": [
        "uvIds = graph.uvIds()\nprint(uvIds)"
      ],
      "outputs": []
    },
    {
      "metadata": {},
      "cell_type": "markdown",
      "source": [
        "get the coordinates of a node\n\n"
      ]
    },
    {
      "metadata": {
        "collapsed": false
      },
      "cell_type": "code",
      "execution_count": null,
      "source": [
        "for node in graph.nodes():\n    print(\"node\",node,\"coordiante\",graph.nodeToCoordinate(node))"
      ],
      "outputs": []
    },
    {
      "metadata": {},
      "cell_type": "markdown",
      "source": [
        "get the node of a coordinate\n\n"
      ]
    },
    {
      "metadata": {
        "collapsed": false
      },
      "cell_type": "code",
      "execution_count": null,
      "source": [
        "for x0 in range(shape[0]):\n    for x1 in range(shape[1]):\n        print(\"coordiante\",[x0,x1],\"node\",graph.coordianteToNode([x0,x1]))"
      ],
      "outputs": []
    },
    {
      "metadata": {},
      "cell_type": "markdown",
      "source": [
        "plot the graph:\nneeds networkx\n\n"
      ]
    },
    {
      "metadata": {
        "collapsed": false
      },
      "cell_type": "code",
      "execution_count": null,
      "source": [
        "nifty.graph.drawGraph(graph)\npylab.show()"
      ],
      "outputs": []
    }
  ],
  "nbformat_minor": 0
}