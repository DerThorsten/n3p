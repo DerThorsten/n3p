{
  "nbformat": 4,
  "cells": [
    {
      "cell_type": "code",
      "source": [
        "%matplotlib inline"
      ],
      "outputs": [],
      "execution_count": null,
      "metadata": {
        "collapsed": false
      }
    },
    {
      "cell_type": "markdown",
      "source": [
        "\nUndirected Grid Graph \n=============================================\n\n2D and 3D undirected with simple neighborhood\n(4-neighborhood in 2D, 6-neighborhood in 3D)\n\n\n"
      ],
      "metadata": {}
    },
    {
      "cell_type": "code",
      "source": [
        "from __future__ import print_function\nimport nifty.graph\nimport pylab"
      ],
      "outputs": [],
      "execution_count": null,
      "metadata": {
        "collapsed": false
      }
    },
    {
      "cell_type": "markdown",
      "source": [
        "2D undirected grid graph\n\n"
      ],
      "metadata": {}
    },
    {
      "cell_type": "code",
      "source": [
        "shape = [3, 3]\ngraph = nifty.graph.undirectedGridGraph(shape)\nprint(\"#nodes\", graph.numberOfNodes)\nprint(\"#edges\", graph.numberOfEdges)\nprint(graph)"
      ],
      "outputs": [],
      "execution_count": null,
      "metadata": {
        "collapsed": false
      }
    },
    {
      "cell_type": "markdown",
      "source": [
        "iterate over nodes\nand the adjacency\nof each node\n\n"
      ],
      "metadata": {}
    },
    {
      "cell_type": "code",
      "source": [
        "for node in graph.nodes():\n    print(\"u\",node)\n    for v,e in graph.nodeAdjacency(node):\n        print(\" v\",v,\"e\",e)"
      ],
      "outputs": [],
      "execution_count": null,
      "metadata": {
        "collapsed": false
      }
    },
    {
      "cell_type": "markdown",
      "source": [
        "iterate over edges\nand print the endpoints\n\n"
      ],
      "metadata": {}
    },
    {
      "cell_type": "code",
      "source": [
        "for edge in graph.edges():\n    print(\"edge \",edge, \"uv:\", graph.uv(edge))"
      ],
      "outputs": [],
      "execution_count": null,
      "metadata": {
        "collapsed": false
      }
    },
    {
      "cell_type": "markdown",
      "source": [
        "get the uv-ids /endpoints\nfor all edges simultaneous\nas a numpy array\n\n"
      ],
      "metadata": {}
    },
    {
      "cell_type": "code",
      "source": [
        "uvIds = graph.uvIds()\nprint(uvIds)"
      ],
      "outputs": [],
      "execution_count": null,
      "metadata": {
        "collapsed": false
      }
    },
    {
      "cell_type": "markdown",
      "source": [
        "get the coordinates of a node\n\n"
      ],
      "metadata": {}
    },
    {
      "cell_type": "code",
      "source": [
        "for node in graph.nodes():\n    print(\"node\",node,\"coordiante\",graph.nodeToCoordinate(node))"
      ],
      "outputs": [],
      "execution_count": null,
      "metadata": {
        "collapsed": false
      }
    },
    {
      "cell_type": "markdown",
      "source": [
        "get the node of a coordinate\n\n"
      ],
      "metadata": {}
    },
    {
      "cell_type": "code",
      "source": [
        "for x0 in range(shape[0]):\n    for x1 in range(shape[1]):\n        print(\"coordiante\",[x0,x1],\"node\",graph.coordianteToNode([x0,x1]))"
      ],
      "outputs": [],
      "execution_count": null,
      "metadata": {
        "collapsed": false
      }
    },
    {
      "cell_type": "markdown",
      "source": [
        "plot the graph:\nneeds networkx\n\n"
      ],
      "metadata": {}
    },
    {
      "cell_type": "code",
      "source": [
        "nifty.graph.drawGraph(graph)\npylab.show()"
      ],
      "outputs": [],
      "execution_count": null,
      "metadata": {
        "collapsed": false
      }
    }
  ],
  "nbformat_minor": 0,
  "metadata": {
    "kernelspec": {
      "language": "python",
      "name": "python3",
      "display_name": "Python 3"
    },
    "language_info": {
      "codemirror_mode": {
        "version": 3,
        "name": "ipython"
      },
      "nbconvert_exporter": "python",
      "version": "3.5.3",
      "file_extension": ".py",
      "mimetype": "text/x-python",
      "name": "python",
      "pygments_lexer": "ipython3"
    }
  }
}