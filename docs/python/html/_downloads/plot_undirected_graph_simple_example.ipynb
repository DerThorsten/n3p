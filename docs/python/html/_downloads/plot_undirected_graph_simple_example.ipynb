{
  "metadata": {
    "language_info": {
      "file_extension": ".py",
      "pygments_lexer": "ipython3",
      "name": "python",
      "codemirror_mode": {
        "version": 3,
        "name": "ipython"
      },
      "version": "3.5.3",
      "mimetype": "text/x-python",
      "nbconvert_exporter": "python"
    },
    "kernelspec": {
      "language": "python",
      "display_name": "Python 3",
      "name": "python3"
    }
  },
  "nbformat": 4,
  "cells": [
    {
      "outputs": [],
      "cell_type": "code",
      "metadata": {
        "collapsed": false
      },
      "source": [
        "%matplotlib inline"
      ],
      "execution_count": null
    },
    {
      "source": [
        "\nUndirected Graph: Simple Example\n=============================================\n\nVery simple example how to use undirected graphs\n\n\n"
      ],
      "cell_type": "markdown",
      "metadata": {}
    },
    {
      "outputs": [],
      "cell_type": "code",
      "metadata": {
        "collapsed": false
      },
      "source": [
        "from __future__ import print_function\nimport nifty.graph\nimport numpy\nimport pylab"
      ],
      "execution_count": null
    },
    {
      "source": [
        "2D undirected grid graph\n\n"
      ],
      "cell_type": "markdown",
      "metadata": {}
    },
    {
      "outputs": [],
      "cell_type": "code",
      "metadata": {
        "collapsed": false
      },
      "source": [
        "numberOfNodes = 5\ngraph = nifty.graph.undirectedGraph(numberOfNodes)\nprint(\"#nodes\", graph.numberOfNodes)\nprint(\"#edges\", graph.numberOfEdges)\nprint(graph)"
      ],
      "execution_count": null
    },
    {
      "source": [
        "insert edges\n\n"
      ],
      "cell_type": "markdown",
      "metadata": {}
    },
    {
      "outputs": [],
      "cell_type": "code",
      "metadata": {
        "collapsed": false
      },
      "source": [
        "graph.insertEdge(0,1)\ngraph.insertEdge(0,2)"
      ],
      "execution_count": null
    },
    {
      "source": [
        "insert multiple edges at once\n\n"
      ],
      "cell_type": "markdown",
      "metadata": {}
    },
    {
      "outputs": [],
      "cell_type": "code",
      "metadata": {
        "collapsed": false
      },
      "source": [
        "uvIds = numpy.array([[0,3],[1,2],[1,4],[1,3],[3,4]])\ngraph.insertEdges(uvIds)"
      ],
      "execution_count": null
    },
    {
      "source": [
        "iterate over nodes\nand the adjacency\nof each node\n\n"
      ],
      "cell_type": "markdown",
      "metadata": {}
    },
    {
      "outputs": [],
      "cell_type": "code",
      "metadata": {
        "collapsed": false
      },
      "source": [
        "for node in graph.nodes():\n    print(\"u\",node)\n    for v,e in graph.nodeAdjacency(node):\n        print(\" v\",v,\"e\",e)"
      ],
      "execution_count": null
    },
    {
      "source": [
        "iterate over edges\nand print the endpoints\n\n"
      ],
      "cell_type": "markdown",
      "metadata": {}
    },
    {
      "outputs": [],
      "cell_type": "code",
      "metadata": {
        "collapsed": false
      },
      "source": [
        "for edge in graph.edges():\n    print(\"edge \",edge, \"uv:\", graph.uv(edge))"
      ],
      "execution_count": null
    },
    {
      "source": [
        "get the uv-ids /endpoints\nfor all edges simultaneous\nas a numpy array\n\n"
      ],
      "cell_type": "markdown",
      "metadata": {}
    },
    {
      "outputs": [],
      "cell_type": "code",
      "metadata": {
        "collapsed": false
      },
      "source": [
        "uvIds = graph.uvIds()\nprint(uvIds)"
      ],
      "execution_count": null
    },
    {
      "source": [
        "plot the graph:\nneeds networkx\n\n"
      ],
      "cell_type": "markdown",
      "metadata": {}
    },
    {
      "outputs": [],
      "cell_type": "code",
      "metadata": {
        "collapsed": false
      },
      "source": [
        "nifty.graph.drawGraph(graph)\npylab.show()"
      ],
      "execution_count": null
    }
  ],
  "nbformat_minor": 0
}