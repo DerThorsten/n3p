{
  "nbformat": 4,
  "cells": [
    {
      "source": [
        "%matplotlib inline"
      ],
      "cell_type": "code",
      "metadata": {
        "collapsed": false
      },
      "outputs": [],
      "execution_count": null
    },
    {
      "source": [
        "\nUndirected Graph: Simple Example\n=============================================\n\nVery simple example how to use undirected graphs\n\n\n"
      ],
      "cell_type": "markdown",
      "metadata": {}
    },
    {
      "source": [
        "from __future__ import print_function\nimport nifty.graph\nimport numpy\nimport pylab"
      ],
      "cell_type": "code",
      "metadata": {
        "collapsed": false
      },
      "outputs": [],
      "execution_count": null
    },
    {
      "source": [
        "2D undirected grid graph\n\n"
      ],
      "cell_type": "markdown",
      "metadata": {}
    },
    {
      "source": [
        "numberOfNodes = 5\ngraph = nifty.graph.undirectedGraph(numberOfNodes)\nprint(\"#nodes\", graph.numberOfNodes)\nprint(\"#edges\", graph.numberOfEdges)\nprint(graph)"
      ],
      "cell_type": "code",
      "metadata": {
        "collapsed": false
      },
      "outputs": [],
      "execution_count": null
    },
    {
      "source": [
        "insert edges\n\n"
      ],
      "cell_type": "markdown",
      "metadata": {}
    },
    {
      "source": [
        "graph.insertEdge(0,1)\ngraph.insertEdge(0,2)"
      ],
      "cell_type": "code",
      "metadata": {
        "collapsed": false
      },
      "outputs": [],
      "execution_count": null
    },
    {
      "source": [
        "insert multiple edges at once\n\n"
      ],
      "cell_type": "markdown",
      "metadata": {}
    },
    {
      "source": [
        "uvIds = numpy.array([[0,3],[1,2],[1,4],[1,3],[3,4]])\ngraph.insertEdges(uvIds)"
      ],
      "cell_type": "code",
      "metadata": {
        "collapsed": false
      },
      "outputs": [],
      "execution_count": null
    },
    {
      "source": [
        "iterate over nodes\nand the adjacency\nof each node\n\n"
      ],
      "cell_type": "markdown",
      "metadata": {}
    },
    {
      "source": [
        "for node in graph.nodes():\n    print(\"u\",node)\n    for v,e in graph.nodeAdjacency(node):\n        print(\" v\",v,\"e\",e)"
      ],
      "cell_type": "code",
      "metadata": {
        "collapsed": false
      },
      "outputs": [],
      "execution_count": null
    },
    {
      "source": [
        "iterate over edges\nand print the endpoints\n\n"
      ],
      "cell_type": "markdown",
      "metadata": {}
    },
    {
      "source": [
        "for edge in graph.edges():\n    print(\"edge \",edge, \"uv:\", graph.uv(edge))"
      ],
      "cell_type": "code",
      "metadata": {
        "collapsed": false
      },
      "outputs": [],
      "execution_count": null
    },
    {
      "source": [
        "get the uv-ids /endpoints\nfor all edges simultaneous\nas a numpy array\n\n"
      ],
      "cell_type": "markdown",
      "metadata": {}
    },
    {
      "source": [
        "uvIds = graph.uvIds()\nprint(uvIds)"
      ],
      "cell_type": "code",
      "metadata": {
        "collapsed": false
      },
      "outputs": [],
      "execution_count": null
    },
    {
      "source": [
        "plot the graph:\nneeds networkx\n\n"
      ],
      "cell_type": "markdown",
      "metadata": {}
    },
    {
      "source": [
        "nifty.graph.drawGraph(graph)\npylab.show()"
      ],
      "cell_type": "code",
      "metadata": {
        "collapsed": false
      },
      "outputs": [],
      "execution_count": null
    }
  ],
  "metadata": {
    "language_info": {
      "nbconvert_exporter": "python",
      "version": "3.5.3",
      "codemirror_mode": {
        "version": 3,
        "name": "ipython"
      },
      "name": "python",
      "file_extension": ".py",
      "mimetype": "text/x-python",
      "pygments_lexer": "ipython3"
    },
    "kernelspec": {
      "language": "python",
      "display_name": "Python 3",
      "name": "python3"
    }
  },
  "nbformat_minor": 0
}