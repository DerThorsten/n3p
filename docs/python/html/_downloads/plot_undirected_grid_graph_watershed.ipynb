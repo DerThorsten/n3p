{
  "nbformat": 4,
  "cells": [
    {
      "source": [
        "%matplotlib inline"
      ],
      "cell_type": "code",
      "metadata": {
        "collapsed": false
      },
      "outputs": [],
      "execution_count": null
    },
    {
      "source": [
        "\nEdge/Node Weighted Watersheds\n====================================\n\nCompare edge weighted watersheds\nand node weighted on a grid graph.\n\n\n\n"
      ],
      "cell_type": "markdown",
      "metadata": {}
    },
    {
      "source": [
        "# sphinx_gallery_thumbnail_number = 4"
      ],
      "cell_type": "code",
      "metadata": {
        "collapsed": false
      },
      "outputs": [],
      "execution_count": null
    },
    {
      "source": [
        "load modules\nand do some minor setup\n\n"
      ],
      "cell_type": "markdown",
      "metadata": {}
    },
    {
      "source": [
        "from __future__ import print_function\n\nimport nifty.graph\nimport skimage.data \nimport skimage.segmentation \nimport vigra\nimport matplotlib\nimport pylab\nimport numpy\n\n# increase default figure size\na,b = pylab.rcParams['figure.figsize']\npylab.rcParams['figure.figsize'] = 2.0*a, 2.0*b"
      ],
      "cell_type": "code",
      "metadata": {
        "collapsed": false
      },
      "outputs": [],
      "execution_count": null
    },
    {
      "source": [
        "load some image\n\n"
      ],
      "cell_type": "markdown",
      "metadata": {}
    },
    {
      "source": [
        "img = skimage.data.astronaut().astype('float32')\nshape = img.shape[0:2]\n\n#plot the image\npylab.imshow(img/255)\npylab.show()"
      ],
      "cell_type": "code",
      "metadata": {
        "collapsed": false
      },
      "outputs": [],
      "execution_count": null
    },
    {
      "source": [
        "get some edge indicator\n\n"
      ],
      "cell_type": "markdown",
      "metadata": {}
    },
    {
      "source": [
        "taggedImg = vigra.taggedView(img,'xyc')\nedgeStrength = vigra.filters.structureTensorEigenvalues(taggedImg, 1.5, 1.9)[:,:,0]\nedgeStrength = edgeStrength.squeeze()\nedgeStrength = numpy.array(edgeStrength)\npylab.imshow(edgeStrength)\npylab.show()"
      ],
      "cell_type": "code",
      "metadata": {
        "collapsed": false
      },
      "outputs": [],
      "execution_count": null
    },
    {
      "source": [
        "get seeds via local minima\n\n"
      ],
      "cell_type": "markdown",
      "metadata": {}
    },
    {
      "source": [
        "seeds = vigra.analysis.localMinima(edgeStrength)\nseeds = vigra.analysis.labelImageWithBackground(seeds)\n\n# plot seeds\ncmap =  numpy.random.rand ( seeds.max()+1,3)\ncmap[0,:] = 0\ncmap = matplotlib.colors.ListedColormap ( cmap)\npylab.imshow(seeds, cmap=cmap)\npylab.show()"
      ],
      "cell_type": "code",
      "metadata": {
        "collapsed": false
      },
      "outputs": [],
      "execution_count": null
    },
    {
      "source": [
        "grid graph\n\n"
      ],
      "cell_type": "markdown",
      "metadata": {}
    },
    {
      "source": [
        "gridGraph = nifty.graph.undirectedGridGraph(shape)"
      ],
      "cell_type": "code",
      "metadata": {
        "collapsed": false
      },
      "outputs": [],
      "execution_count": null
    },
    {
      "source": [
        "convert image to grid graph edge map\n\n"
      ],
      "cell_type": "markdown",
      "metadata": {}
    },
    {
      "source": [
        "gridGraphEdgeStrength = gridGraph.imageToEdgeMap(edgeStrength, mode='sum')\nnumpy.random.permutation(gridGraphEdgeStrength)"
      ],
      "cell_type": "code",
      "metadata": {
        "collapsed": false
      },
      "outputs": [],
      "execution_count": null
    },
    {
      "source": [
        "run edge weighted watershed algorithm\n\n"
      ],
      "cell_type": "markdown",
      "metadata": {}
    },
    {
      "source": [
        "oversegEdgeWeighted = nifty.graph.edgeWeightedWatershedsSegmentation(graph=gridGraph, seeds=seeds.ravel(),\n    edgeWeights=gridGraphEdgeStrength)\noversegEdgeWeighted = oversegEdgeWeighted.reshape(shape)"
      ],
      "cell_type": "code",
      "metadata": {
        "collapsed": false
      },
      "outputs": [],
      "execution_count": null
    },
    {
      "source": [
        "run node weighted watershed algorithm\n\n"
      ],
      "cell_type": "markdown",
      "metadata": {}
    },
    {
      "source": [
        "oversegNodeWeighted = nifty.graph.nodeWeightedWatershedsSegmentation(graph=gridGraph, seeds=seeds.ravel(),\n    nodeWeights=edgeStrength.ravel())\noversegNodeWeighted = oversegNodeWeighted.reshape(shape)"
      ],
      "cell_type": "code",
      "metadata": {
        "collapsed": false
      },
      "outputs": [],
      "execution_count": null
    },
    {
      "source": [
        "plot results\n\n"
      ],
      "cell_type": "markdown",
      "metadata": {}
    },
    {
      "source": [
        "f = pylab.figure()\nf.add_subplot(1, 2, 1)\nb_img = skimage.segmentation.mark_boundaries(img/255, \n        oversegEdgeWeighted.astype('uint32'), mode='inner', color=(0.1,0.1,0.2))\npylab.imshow(b_img)\npylab.title('Edge Weighted Watershed')\n\nf.add_subplot(1, 2, 2)\nb_img = skimage.segmentation.mark_boundaries(img/255, \n        oversegNodeWeighted.astype('uint32'), mode='inner', color=(0.1,0.1,0.2))\npylab.imshow(b_img)\npylab.title('Node Weighted Watershed')\n\n\npylab.show()"
      ],
      "cell_type": "code",
      "metadata": {
        "collapsed": false
      },
      "outputs": [],
      "execution_count": null
    }
  ],
  "metadata": {
    "language_info": {
      "nbconvert_exporter": "python",
      "version": "3.5.3",
      "codemirror_mode": {
        "version": 3,
        "name": "ipython"
      },
      "name": "python",
      "file_extension": ".py",
      "mimetype": "text/x-python",
      "pygments_lexer": "ipython3"
    },
    "kernelspec": {
      "language": "python",
      "display_name": "Python 3",
      "name": "python3"
    }
  },
  "nbformat_minor": 0
}