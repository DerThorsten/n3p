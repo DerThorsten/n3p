{
  "nbformat": 4,
  "cells": [
    {
      "source": [
        "%matplotlib inline"
      ],
      "cell_type": "code",
      "metadata": {
        "collapsed": false
      },
      "outputs": [],
      "execution_count": null
    },
    {
      "source": [
        "\nEdge Contraction Graph\n====================================\n\n\nContract the edges of an arbitrary graph\nand call callbacks when edges and nodes\nare merged\n\n"
      ],
      "cell_type": "markdown",
      "metadata": {}
    },
    {
      "source": [
        "from __future__ import print_function\nimport nifty\nimport nifty.graph\nimport pylab\n\ndef generateGrid(gridSize):\n    def nid(x, y):\n        return x*gridSize[1] + y\n    G = nifty.graph.UndirectedGraph\n    g =  G(gridSize[0] * gridSize[1])\n    for x in range(gridSize[0]):\n        for y in range(gridSize[1]):  \n\n            u = nid(x,y)\n\n            if x + 1 < gridSize[0]:\n\n                v = nid(x+1, y)\n                g.insertEdge(u, v)\n\n            if y + 1 < gridSize[1]:\n\n                v = nid(x, y+1)\n                g.insertEdge(u, v)\n    return g\n\n\nclass MyCallback(nifty.graph.EdgeContractionGraphCallback):\n    def __init__(self):\n        super(MyCallback, self).__init__()\n\n    def contractEdge(self, edgeToContract):\n        print(\"     contract edge\",edgeToContract)\n\n    def mergeEdges(self, aliveEdge, deadEdge):\n        print(\"     merge edges\",aliveEdge, deadEdge)\n\n    def mergeNodes(self, aliveNode, deadNode):\n        print(\"     merge nodes\", aliveNode, deadNode)\n\n    def contractEdgeDone(self, contractedEdge):\n        print(\"     contract edge done\", contractedEdge)\n\n\n# generate grid graph\ng   = generateGrid((3,2))\n\n# the callback \ncallback = MyCallback()\n\n# the edge contraction graph\ncg = nifty.graph.edgeContractionGraph(g,callback)\n\n\n\n# plot the graph\npylab.figure()\npylab.title('graph')\nnifty.graph.drawGraph(g)\npylab.show()\n\n# - here we just contract all edges of the original graph\ncounter = 0\nfor e in g.edges():\n        \n\n    # get the endpoints of e in the original    \n    u,v = g.uv(e)\n\n    # get the nodes in the merged graph\n    cu = cg.findRepresentativeNode(u)\n    cv = cg.findRepresentativeNode(v)\n\n    print(\"contraction graph:\", cv)\n    print(\"e\",e,)   \n    print(\"      u\",u, \"cv\",v)\n    print(\"     cu\",cu,\" v\",cv)\n\n    if(cu != cv):\n        # the edge is still alive \n        # since the endpoints are still in \n        # different clusters\n        ce = cg.findRepresentativeEdge(e)\n\n        # lets contract that edge\n        cg.contractEdge(ce)\n\n        # plot the graph\n        pylab.figure()\n        pylab.title('after contracting %d -- %d'%(cu, cv))\n        nifty.graph.drawGraph(cg)\n        counter += 1\n        pylab.show()\n\n\n    else:\n        # the edge is not alive any more\n        tmp = cg.nodeOfDeadEdge(e)\n        assert tmp == cv"
      ],
      "cell_type": "code",
      "metadata": {
        "collapsed": false
      },
      "outputs": [],
      "execution_count": null
    }
  ],
  "metadata": {
    "language_info": {
      "nbconvert_exporter": "python",
      "version": "3.5.3",
      "codemirror_mode": {
        "version": 3,
        "name": "ipython"
      },
      "name": "python",
      "file_extension": ".py",
      "mimetype": "text/x-python",
      "pygments_lexer": "ipython3"
    },
    "kernelspec": {
      "language": "python",
      "display_name": "Python 3",
      "name": "python3"
    }
  },
  "nbformat_minor": 0
}