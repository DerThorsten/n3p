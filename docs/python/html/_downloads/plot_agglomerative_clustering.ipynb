{
  "cells": [
    {
      "cell_type": "code",
      "execution_count": null,
      "metadata": {
        "collapsed": false
      },
      "outputs": [],
      "source": [
        "%matplotlib inline"
      ]
    },
    {
      "cell_type": "markdown",
      "metadata": {},
      "source": [
        "\nAgglomerative Clustering\n====================================\n\n\nSegment an image with agglomerative clustering.\nWe start from a region adjacency graph\n\n"
      ]
    },
    {
      "cell_type": "code",
      "execution_count": null,
      "metadata": {
        "collapsed": false
      },
      "outputs": [],
      "source": [
        "from __future__ import print_function\n\n# numpy\nimport numpy\n\n# skimage\nimport skimage.filters       # filters\nimport skimage.segmentation  # Superpixels\nimport skimage.data          # Data\nimport skimage.color         # rgb2Gray\n\n# pylab\nimport pylab                # Plotting\n\n\n# nifty\nimport nifty.graph.rag      # RAG\nimport nifty.graph.agglo    # Agglomerative clustering\n\n\n# load some image\nimg = skimage.data.coins()\n\n\n\n\n# slic superpixels\noverseg = skimage.segmentation.slic(img, n_segments=2000,\n    compactness=0.1, sigma=1)\n \n# make the Region adjacency graph (RAG)\nrag = nifty.graph.rag.gridRag(overseg)\n\n\n# compute edge strength\nsmoothed = skimage.filters.gaussian(img, 2.5)\nedgeStrength = skimage.filters.sobel(smoothed)\n\n\n# accumulate the mean edge value\n# along the superpixel boundaries\n# length of each boundary and \nprint(edgeStrength.shape, overseg.shape)\nedge_features, node_features = nifty.graph.rag.accumulateMeanAndLength(\n    rag, edgeStrength, [512,512],0)\nmeanEdgeStrength = edge_features[:,0]\nedgeSizes = edge_features[:,1]\nnodeSizes = node_features[:,1]\n\n\n# cluster-policy  \nclusterPolicy = nifty.graph.agglo.edgeWeightedClusterPolicy(\n    graph=rag, edgeIndicators=meanEdgeStrength,\n    edgeSizes=edgeSizes, nodeSizes=nodeSizes,\n    numberOfNodesStop=25, sizeRegularizer=0.2)\n\n# run agglomerative clustering\nagglomerativeClustering = nifty.graph.agglo.agglomerativeClustering(clusterPolicy) \nagglomerativeClustering.run()\nnodeSeg = agglomerativeClustering.result()\n\n# convert graph segmentation\n# to pixel segmentation\nseg = nifty.graph.rag.projectScalarNodeDataToPixels(rag, nodeSeg)\n\n\n\n\n# plot the results\n\n# increase default figure size\na,b = pylab.rcParams['figure.figsize']\npylab.rcParams['figure.figsize'] = 1.5*a, 1.5*b\n    \nf = pylab.figure()\nf.add_subplot(2, 2, 1)\npylab.imshow(img, cmap='gray')\npylab.title('Raw Data')\n\n\nf.add_subplot(2, 2, 2)\nb_img = skimage.segmentation.mark_boundaries(img, \n        overseg.astype('uint32'), mode='inner', color=(1,0,0))\npylab.imshow(b_img, cmap='gray')\npylab.title('Superpixels')\n\nf.add_subplot(2, 2, 3)\npylab.imshow(edgeStrength, cmap='gray')\npylab.title('Edge Strength')\n\n\nf.add_subplot(2, 2, 4)\nb_img = skimage.segmentation.mark_boundaries(img, \n        seg.astype('uint32'), mode='inner', color=(1,0,0))\npylab.imshow(b_img)\npylab.title('Segmentation')\n\npylab.show()"
      ]
    }
  ],
  "metadata": {
    "kernelspec": {
      "display_name": "Python 3",
      "language": "python",
      "name": "python3"
    },
    "language_info": {
      "codemirror_mode": {
        "name": "ipython",
        "version": 3
      },
      "file_extension": ".py",
      "mimetype": "text/x-python",
      "name": "python",
      "nbconvert_exporter": "python",
      "pygments_lexer": "ipython3",
      "version": "3.6.1"
    }
  },
  "nbformat": 4,
  "nbformat_minor": 0
}