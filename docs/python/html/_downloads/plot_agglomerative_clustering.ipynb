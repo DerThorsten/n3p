{
  "nbformat": 4,
  "metadata": {
    "language_info": {
      "mimetype": "text/x-python",
      "version": "3.5.3",
      "name": "python",
      "pygments_lexer": "ipython3",
      "file_extension": ".py",
      "nbconvert_exporter": "python",
      "codemirror_mode": {
        "version": 3,
        "name": "ipython"
      }
    },
    "kernelspec": {
      "language": "python",
      "name": "python3",
      "display_name": "Python 3"
    }
  },
  "cells": [
    {
      "source": [
        "%matplotlib inline"
      ],
      "outputs": [],
      "metadata": {
        "collapsed": false
      },
      "execution_count": null,
      "cell_type": "code"
    },
    {
      "source": [
        "\nAgglomerative Clustering on RAG\n================================\n\nWe start from a region adjacency graph as initial\ngraph and use agglomerative clustering\non this graph/\n\n"
      ],
      "metadata": {},
      "cell_type": "markdown"
    },
    {
      "source": [
        "from __future__ import print_function\n\n# numpy[]\nimport numpy\n\n# skimage\nimport skimage.filters       # filters\nimport skimage.segmentation  # Superpixels\nimport skimage.data          # Data\nimport skimage.color         # rgb2Gray\nimport matplotlib \n\n# pylab\nimport pylab                # Plotting\n\n\n# nifty\nimport nifty.graph.rag      # RAG\nimport nifty.graph.agglo    # Agglomerative clustering\nimport nifty.segmentation\n\n# load some image\nimg = skimage.data.coins()\n\n\n# slic superpixels\noverseg = skimage.segmentation.slic(img, n_segments=2000,\n    compactness=0.1, sigma=1)\n \n# make the Region adjacency graph (RAG)\nrag = nifty.graph.rag.gridRag(overseg)\n\n\n# compute edge strength\nsmoothed = skimage.filters.gaussian(img, 2.5)\nedgeStrength = skimage.filters.sobel(smoothed)\n\n\n# accumulate the mean edge value\n# along the superpixel boundaries\n# length of each boundary and \nprint(edgeStrength.shape, overseg.shape)\nedge_features, node_features = nifty.graph.rag.accumulateMeanAndLength(\n    rag, edgeStrength, [512,512],0)\nmeanEdgeStrength = edge_features[:,0]\nedgeSizes = edge_features[:,1]\nnodeSizes = node_features[:,1]\n\n\n# cluster-policy  \nclusterPolicy = nifty.graph.agglo.edgeWeightedClusterPolicy(\n    graph=rag, edgeIndicators=meanEdgeStrength,\n    edgeSizes=edgeSizes, nodeSizes=nodeSizes,\n    numberOfNodesStop=25, sizeRegularizer=0.2)\n\n# run agglomerative clustering\nagglomerativeClustering = nifty.graph.agglo.agglomerativeClustering(clusterPolicy) \nagglomerativeClustering.run()\nnodeSeg = agglomerativeClustering.result()\n\n# convert graph segmentation\n# to pixel segmentation\nseg = nifty.graph.rag.projectScalarNodeDataToPixels(rag, nodeSeg)\n\n\n\n# plot the results\n\n# increase default figure size\na,b = pylab.rcParams['figure.figsize']\npylab.rcParams['figure.figsize'] = 1.5*a, 1.5*b\n    \nf = pylab.figure()\nf.add_subplot(2, 2, 1)\npylab.imshow(img, cmap='gray')\npylab.title('Raw Data')\n\n\nf.add_subplot(2, 2, 2)\nbImg = nifty.segmentation.markBoundaries(img, overseg, color=(1,0,0))\npylab.imshow(bImg, cmap='gray')\npylab.title('Superpixels')\n\nf.add_subplot(2, 2, 3)\npylab.imshow(edgeStrength, cmap='gray')\npylab.title('Edge Strength')\n\n\nf.add_subplot(2, 2, 4)\nbImg = nifty.segmentation.markBoundaries(img, seg, color=(1,0,0))\npylab.imshow(bImg)\npylab.title('Segmentation')\n\npylab.show()"
      ],
      "outputs": [],
      "metadata": {
        "collapsed": false
      },
      "execution_count": null,
      "cell_type": "code"
    }
  ],
  "nbformat_minor": 0
}