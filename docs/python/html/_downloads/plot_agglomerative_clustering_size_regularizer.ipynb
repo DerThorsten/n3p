{
  "nbformat": 4,
  "nbformat_minor": 0,
  "metadata": {
    "language_info": {
      "pygments_lexer": "ipython3",
      "nbconvert_exporter": "python",
      "version": "3.5.3",
      "codemirror_mode": {
        "version": 3,
        "name": "ipython"
      },
      "file_extension": ".py",
      "name": "python",
      "mimetype": "text/x-python"
    },
    "kernelspec": {
      "display_name": "Python 3",
      "language": "python",
      "name": "python3"
    }
  },
  "cells": [
    {
      "source": [
        "%matplotlib inline"
      ],
      "outputs": [],
      "metadata": {
        "collapsed": false
      },
      "cell_type": "code",
      "execution_count": null
    },
    {
      "source": [
        "\nRGB Agglomerative Clustering \n====================================\n\nSegment an image with agglomerative clustering.\nWe start from a region adjacency graph.\n\n"
      ],
      "metadata": {},
      "cell_type": "markdown"
    },
    {
      "source": [
        "from __future__ import print_function\n\n\nimport numpy\nimport vigra\nimport urllib\nimport os.path\nimport pylab                \nimport skimage.segmentation\n\n# nifty\nimport nifty.graph.rag      # RAG\nimport nifty.graph.agglo    # Agglomerative clustering\n\n# download and read image\nurl = \"https://www2.eecs.berkeley.edu/Research/Projects/CS/vision/bsds/BSDS300/html/images/plain/normal/color/12003.jpg\"\nfname = '12003.jpg'\nif not os.path.isfile(fname):\n    urllib.request.urlretrieve(url, fname)\nimg = vigra.impex.readImage(fname)\nimg = numpy.swapaxes(img, 0, 1)\n\n# edge indicator\nedgeStrength = vigra.filters.gaussianGradientMagnitude(img,2.5).squeeze()\n\n# watershed superpixels\noverseg, neg = vigra.analysis.watersheds(edgeStrength)\noverseg -= 1\n\n# make the Region adjacency graph (RAG)\nrag = nifty.graph.rag.gridRag(overseg)\n\n\n\n# accumulate the mean edge value\n# along the superpixel boundaries\n# length of each boundary and node sizes\nedge_features, node_features = nifty.graph.rag.accumulateMeanAndLength(\n    rag, edgeStrength, [512,512],0)\nmeanEdgeStrength = edge_features[:,0]\nedgeSizes = edge_features[:,1]\nnodeSizes = node_features[:,1]\n\n\n# use vigra to accumulate the mean\n# RGB values for each superpixel\nnodeFeatures = vigra.analysis.extractRegionFeatures(image=img, labels=overseg,features='Mean')['Mean']\n\nclusterPolicy = nifty.graph.agglo.nodeAndEdgeWeightedClusterPolicy(\n    graph=rag, edgeIndicators=meanEdgeStrength,\n    nodeFeatures=nodeFeatures,\n    edgeSizes=edgeSizes, \n    nodeSizes=nodeSizes,\n    beta=0.15, numberOfNodesStop=4, \n    sizeRegularizer=0.3)\n\n# run agglomerative clustering\nagglomerativeClustering = nifty.graph.agglo.agglomerativeClustering(clusterPolicy) \nagglomerativeClustering.run()\nnodeSeg = agglomerativeClustering.result()\n\n# convert graph segmentation\n# to pixel segmentation\nseg = nifty.graph.rag.projectScalarNodeDataToPixels(rag, nodeSeg)\n\n\n\n\n# plot the results\n\n# increase default figure size\na,b = pylab.rcParams['figure.figsize']\npylab.rcParams['figure.figsize'] = 1.5*a, 1.5*b\n    \nf = pylab.figure()\nf.add_subplot(2, 2, 1)\npylab.imshow(img/255, cmap='gray')\npylab.title('Raw Data')\n\n\nf.add_subplot(2, 2, 2)\nb_img = skimage.segmentation.mark_boundaries(img/255, \n        overseg.astype('uint32'), mode='inner', color=(1,0,0))\npylab.imshow(b_img, cmap='gray')\npylab.title('Superpixels')\n\nf.add_subplot(2, 2, 3)\npylab.imshow(edgeStrength, cmap='gray')\npylab.title('Edge Strength')\n\n\nf.add_subplot(2, 2, 4)\nb_img = skimage.segmentation.mark_boundaries(img/255, \n        seg.astype('uint32'), mode='inner', color=(1,0,0))\npylab.imshow(b_img)\npylab.title('Segmentation')\n\npylab.show()"
      ],
      "outputs": [],
      "metadata": {
        "collapsed": false
      },
      "cell_type": "code",
      "execution_count": null
    }
  ]
}