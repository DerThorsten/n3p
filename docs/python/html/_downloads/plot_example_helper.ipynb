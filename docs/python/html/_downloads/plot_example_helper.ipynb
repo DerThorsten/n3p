{
  "nbformat_minor": 0,
  "cells": [
    {
      "source": [
        "%matplotlib inline"
      ],
      "cell_type": "code",
      "metadata": {
        "collapsed": false
      },
      "execution_count": null,
      "outputs": []
    },
    {
      "source": [
        "\nHelpers for examples\n====================================\n\nHelper functions shared by examples\n\n"
      ],
      "cell_type": "markdown",
      "metadata": {}
    },
    {
      "source": [
        "import pylab\n\n# increase default figure size\n\na,b = pylab.rcParams['figure.figsize']\npylab.rcParams['figure.figsize'] = 1.5*a, 1.5*b\n\n\ndef randColorMap(size, zeroToZeros=True):\n    r = numpy.random.rand ( size,3)\n    if zeroToZeros:\n        r[0,:] = 0\n    return matplotlib.colors.ListedColormap ( r)"
      ],
      "cell_type": "code",
      "metadata": {
        "collapsed": false
      },
      "execution_count": null,
      "outputs": []
    }
  ],
  "metadata": {
    "kernelspec": {
      "display_name": "Python 3",
      "name": "python3",
      "language": "python"
    },
    "language_info": {
      "name": "python",
      "mimetype": "text/x-python",
      "codemirror_mode": {
        "name": "ipython",
        "version": 3
      },
      "pygments_lexer": "ipython3",
      "nbconvert_exporter": "python",
      "file_extension": ".py",
      "version": "3.5.3"
    }
  },
  "nbformat": 4
}