{
  "nbformat": 4,
  "metadata": {
    "language_info": {
      "mimetype": "text/x-python",
      "version": "3.5.3",
      "name": "python",
      "pygments_lexer": "ipython3",
      "file_extension": ".py",
      "nbconvert_exporter": "python",
      "codemirror_mode": {
        "version": 3,
        "name": "ipython"
      }
    },
    "kernelspec": {
      "language": "python",
      "name": "python3",
      "display_name": "Python 3"
    }
  },
  "cells": [
    {
      "source": [
        "%matplotlib inline"
      ],
      "outputs": [],
      "metadata": {
        "collapsed": false
      },
      "execution_count": null,
      "cell_type": "code"
    },
    {
      "source": [
        "\nEdge/Node Weighted Watersheds\n====================================\n\nCompare edge weighted watersheds\nand node weighted on a grid graph.\n\n"
      ],
      "metadata": {},
      "cell_type": "markdown"
    },
    {
      "source": [
        "sphinx_gallery_thumbnail_number = 5\n\n"
      ],
      "metadata": {},
      "cell_type": "markdown"
    },
    {
      "source": [
        "from __future__ import print_function\n\nimport nifty.graph\nimport skimage.data \nimport skimage.segmentation \nimport vigra\nimport matplotlib\nimport pylab\nimport numpy\n\n# increase default figure size\na,b = pylab.rcParams['figure.figsize']\npylab.rcParams['figure.figsize'] = 2.0*a, 2.0*b"
      ],
      "outputs": [],
      "metadata": {
        "collapsed": false
      },
      "execution_count": null,
      "cell_type": "code"
    },
    {
      "source": [
        "load some image\n\n"
      ],
      "metadata": {},
      "cell_type": "markdown"
    },
    {
      "source": [
        "img = skimage.data.astronaut().astype('float32')\nshape = img.shape[0:2]\n#plot the image\npylab.imshow(img/255)\npylab.show()"
      ],
      "outputs": [],
      "metadata": {
        "collapsed": false
      },
      "execution_count": null,
      "cell_type": "code"
    },
    {
      "source": [
        "get some edge indicator\n\n"
      ],
      "metadata": {},
      "cell_type": "markdown"
    },
    {
      "source": [
        "taggedImg = vigra.taggedView(img,'xyc')\nedgeStrength = vigra.filters.structureTensorEigenvalues(taggedImg, 1.5, 1.9)[:,:,0]\nedgeStrength = edgeStrength.squeeze()\nedgeStrength = numpy.array(edgeStrength)\npylab.imshow(edgeStrength)\npylab.show()"
      ],
      "outputs": [],
      "metadata": {
        "collapsed": false
      },
      "execution_count": null,
      "cell_type": "code"
    },
    {
      "source": [
        "get seeds via local minima\n\n"
      ],
      "metadata": {},
      "cell_type": "markdown"
    },
    {
      "source": [
        "seeds = vigra.analysis.localMinima(edgeStrength)\nseeds = vigra.analysis.labelImageWithBackground(seeds)\n\n# plot seeds\ncmap =  numpy.random.rand ( seeds.max()+1,3)\ncmap[0,:] = 0\ncmap = matplotlib.colors.ListedColormap ( cmap)\npylab.imshow(seeds, cmap=cmap)\npylab.show()"
      ],
      "outputs": [],
      "metadata": {
        "collapsed": false
      },
      "execution_count": null,
      "cell_type": "code"
    },
    {
      "source": [
        "grid graph\n\n"
      ],
      "metadata": {},
      "cell_type": "markdown"
    },
    {
      "source": [
        "gridGraph = nifty.graph.undirectedGridGraph(shape)"
      ],
      "outputs": [],
      "metadata": {
        "collapsed": false
      },
      "execution_count": null,
      "cell_type": "code"
    },
    {
      "source": [
        "run node weighted watershed algorithm\n\n"
      ],
      "metadata": {},
      "cell_type": "markdown"
    },
    {
      "source": [
        "oversegNodeWeighted = nifty.graph.nodeWeightedWatershedsSegmentation(graph=gridGraph, seeds=seeds.ravel(),\n    nodeWeights=edgeStrength.ravel())\noversegNodeWeighted = oversegNodeWeighted.reshape(shape)"
      ],
      "outputs": [],
      "metadata": {
        "collapsed": false
      },
      "execution_count": null,
      "cell_type": "code"
    },
    {
      "source": [
        "run edge weighted watershed algorithm \n\n"
      ],
      "metadata": {},
      "cell_type": "markdown"
    },
    {
      "source": [
        "gridGraphEdgeStrength = gridGraph.imageToEdgeMap(edgeStrength, mode='sum')\nnumpy.random.permutation(gridGraphEdgeStrength)\noversegEdgeWeightedA = nifty.graph.edgeWeightedWatershedsSegmentation(graph=gridGraph, seeds=seeds.ravel(),\n    edgeWeights=gridGraphEdgeStrength)\noversegEdgeWeightedA = oversegEdgeWeightedA.reshape(shape)"
      ],
      "outputs": [],
      "metadata": {
        "collapsed": false
      },
      "execution_count": null,
      "cell_type": "code"
    },
    {
      "source": [
        "run edge weighted watershed algorithm \non interpixel weights.\nTo do so we need to resample the image\nand compute the edge indicator\non the reampled image\n\n"
      ],
      "metadata": {},
      "cell_type": "markdown"
    },
    {
      "source": [
        "interpixelShape = [2*s-1 for s in shape]\nimgBig = vigra.sampling.resize(taggedImg, interpixelShape)\nedgeStrength = vigra.filters.structureTensorEigenvalues(imgBig, 2*1.5, 2*1.9)[:,:,0]\nedgeStrength = edgeStrength.squeeze()\nedgeStrength = numpy.array(edgeStrength)\ngridGraphEdgeStrength = gridGraph.imageToEdgeMap(edgeStrength, mode='interpixel')\noversegEdgeWeightedB = nifty.graph.edgeWeightedWatershedsSegmentation(\n    graph=gridGraph, \n    seeds=seeds.ravel(),\n    edgeWeights=gridGraphEdgeStrength)\noversegEdgeWeightedB = oversegEdgeWeightedB.reshape(shape)"
      ],
      "outputs": [],
      "metadata": {
        "collapsed": false
      },
      "execution_count": null,
      "cell_type": "code"
    },
    {
      "source": [
        "plot results\n\n"
      ],
      "metadata": {},
      "cell_type": "markdown"
    },
    {
      "source": [
        "f = pylab.figure()\nf.add_subplot(2,2, 1)\nb_img = skimage.segmentation.mark_boundaries(img/255, \n        oversegEdgeWeightedA.astype('uint32'), mode='inner', color=(0.1,0.1,0.2))\npylab.imshow(b_img)\npylab.title('Edge Weighted Watershed (sum weights)')\n\nf.add_subplot(2,2, 2)\nb_img = skimage.segmentation.mark_boundaries(img/255, \n        oversegEdgeWeightedB.astype('uint32'), mode='inner', color=(0.1,0.1,0.2))\npylab.imshow(b_img)\npylab.title('Edge Weighted Watershed (interpixel weights)')\n\nf.add_subplot(2,2, 3)\nb_img = skimage.segmentation.mark_boundaries(img/255, \n        oversegNodeWeighted.astype('uint32'), mode='inner', color=(0.1,0.1,0.2))\npylab.imshow(b_img)\npylab.title('Node Weighted Watershed')\n\n\npylab.show()"
      ],
      "outputs": [],
      "metadata": {
        "collapsed": false
      },
      "execution_count": null,
      "cell_type": "code"
    }
  ],
  "nbformat_minor": 0
}