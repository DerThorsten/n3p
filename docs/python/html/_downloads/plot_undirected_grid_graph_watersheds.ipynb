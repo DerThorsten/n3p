{
  "nbformat_minor": 0,
  "metadata": {
    "kernelspec": {
      "language": "python",
      "display_name": "Python 3",
      "name": "python3"
    },
    "language_info": {
      "pygments_lexer": "ipython3",
      "name": "python",
      "codemirror_mode": {
        "name": "ipython",
        "version": 3
      },
      "version": "3.5.3",
      "nbconvert_exporter": "python",
      "file_extension": ".py",
      "mimetype": "text/x-python"
    }
  },
  "cells": [
    {
      "cell_type": "code",
      "metadata": {
        "collapsed": false
      },
      "execution_count": null,
      "outputs": [],
      "source": [
        "%matplotlib inline"
      ]
    },
    {
      "cell_type": "markdown",
      "metadata": {},
      "source": [
        "\nEdge/Node Weighted Watersheds\n====================================\n\nCompare edge weighted watersheds\nand node weighted on a grid graph.\n\n"
      ]
    },
    {
      "cell_type": "markdown",
      "metadata": {},
      "source": [
        "sphinx_gallery_thumbnail_number = 5\n\n"
      ]
    },
    {
      "cell_type": "code",
      "metadata": {
        "collapsed": false
      },
      "execution_count": null,
      "outputs": [],
      "source": [
        "from __future__ import print_function\n\nimport nifty.graph\nimport skimage.data \nimport skimage.segmentation \nimport vigra\nimport matplotlib\nimport pylab\nimport numpy\n\n# increase default figure size\na,b = pylab.rcParams['figure.figsize']\npylab.rcParams['figure.figsize'] = 2.0*a, 2.0*b"
      ]
    },
    {
      "cell_type": "markdown",
      "metadata": {},
      "source": [
        "load some image\n\n"
      ]
    },
    {
      "cell_type": "code",
      "metadata": {
        "collapsed": false
      },
      "execution_count": null,
      "outputs": [],
      "source": [
        "img = skimage.data.astronaut().astype('float32')\nshape = img.shape[0:2]\n#plot the image\npylab.imshow(img/255)\npylab.show()"
      ]
    },
    {
      "cell_type": "markdown",
      "metadata": {},
      "source": [
        "get some edge indicator\n\n"
      ]
    },
    {
      "cell_type": "code",
      "metadata": {
        "collapsed": false
      },
      "execution_count": null,
      "outputs": [],
      "source": [
        "taggedImg = vigra.taggedView(img,'xyc')\nedgeStrength = vigra.filters.structureTensorEigenvalues(taggedImg, 1.5, 1.9)[:,:,0]\nedgeStrength = edgeStrength.squeeze()\nedgeStrength = numpy.array(edgeStrength)\npylab.imshow(edgeStrength)\npylab.show()"
      ]
    },
    {
      "cell_type": "markdown",
      "metadata": {},
      "source": [
        "get seeds via local minima\n\n"
      ]
    },
    {
      "cell_type": "code",
      "metadata": {
        "collapsed": false
      },
      "execution_count": null,
      "outputs": [],
      "source": [
        "seeds = vigra.analysis.localMinima(edgeStrength)\nseeds = vigra.analysis.labelImageWithBackground(seeds)\n\n# plot seeds\ncmap =  numpy.random.rand ( seeds.max()+1,3)\ncmap[0,:] = 0\ncmap = matplotlib.colors.ListedColormap ( cmap)\npylab.imshow(seeds, cmap=cmap)\npylab.show()"
      ]
    },
    {
      "cell_type": "markdown",
      "metadata": {},
      "source": [
        "grid graph\n\n"
      ]
    },
    {
      "cell_type": "code",
      "metadata": {
        "collapsed": false
      },
      "execution_count": null,
      "outputs": [],
      "source": [
        "gridGraph = nifty.graph.undirectedGridGraph(shape)"
      ]
    },
    {
      "cell_type": "markdown",
      "metadata": {},
      "source": [
        "run node weighted watershed algorithm\n\n"
      ]
    },
    {
      "cell_type": "code",
      "metadata": {
        "collapsed": false
      },
      "execution_count": null,
      "outputs": [],
      "source": [
        "oversegNodeWeighted = nifty.graph.nodeWeightedWatershedsSegmentation(graph=gridGraph, seeds=seeds.ravel(),\n    nodeWeights=edgeStrength.ravel())\noversegNodeWeighted = oversegNodeWeighted.reshape(shape)"
      ]
    },
    {
      "cell_type": "markdown",
      "metadata": {},
      "source": [
        "run edge weighted watershed algorithm \n\n"
      ]
    },
    {
      "cell_type": "code",
      "metadata": {
        "collapsed": false
      },
      "execution_count": null,
      "outputs": [],
      "source": [
        "gridGraphEdgeStrength = gridGraph.imageToEdgeMap(edgeStrength, mode='sum')\nnumpy.random.permutation(gridGraphEdgeStrength)\noversegEdgeWeightedA = nifty.graph.edgeWeightedWatershedsSegmentation(graph=gridGraph, seeds=seeds.ravel(),\n    edgeWeights=gridGraphEdgeStrength)\noversegEdgeWeightedA = oversegEdgeWeightedA.reshape(shape)"
      ]
    },
    {
      "cell_type": "markdown",
      "metadata": {},
      "source": [
        "run edge weighted watershed algorithm \non interpixel weights.\nTo do so we need to resample the image\nand compute the edge indicator\non the reampled image\n\n"
      ]
    },
    {
      "cell_type": "code",
      "metadata": {
        "collapsed": false
      },
      "execution_count": null,
      "outputs": [],
      "source": [
        "interpixelShape = [2*s-1 for s in shape]\nimgBig = vigra.sampling.resize(taggedImg, interpixelShape)\nedgeStrength = vigra.filters.structureTensorEigenvalues(imgBig, 2*1.5, 2*1.9)[:,:,0]\nedgeStrength = edgeStrength.squeeze()\nedgeStrength = numpy.array(edgeStrength)\ngridGraphEdgeStrength = gridGraph.imageToEdgeMap(edgeStrength, mode='interpixel')\noversegEdgeWeightedB = nifty.graph.edgeWeightedWatershedsSegmentation(\n    graph=gridGraph, \n    seeds=seeds.ravel(),\n    edgeWeights=gridGraphEdgeStrength)\noversegEdgeWeightedB = oversegEdgeWeightedB.reshape(shape)"
      ]
    },
    {
      "cell_type": "markdown",
      "metadata": {},
      "source": [
        "plot results\n\n"
      ]
    },
    {
      "cell_type": "code",
      "metadata": {
        "collapsed": false
      },
      "execution_count": null,
      "outputs": [],
      "source": [
        "f = pylab.figure()\nf.add_subplot(2,2, 1)\nb_img = skimage.segmentation.mark_boundaries(img/255, \n        oversegEdgeWeightedA.astype('uint32'), mode='inner', color=(0.1,0.1,0.2))\npylab.imshow(b_img)\npylab.title('Edge Weighted Watershed (sum weights)')\n\nf.add_subplot(2,2, 2)\nb_img = skimage.segmentation.mark_boundaries(img/255, \n        oversegEdgeWeightedB.astype('uint32'), mode='inner', color=(0.1,0.1,0.2))\npylab.imshow(b_img)\npylab.title('Edge Weighted Watershed (interpixel weights)')\n\nf.add_subplot(2,2, 3)\nb_img = skimage.segmentation.mark_boundaries(img/255, \n        oversegNodeWeighted.astype('uint32'), mode='inner', color=(0.1,0.1,0.2))\npylab.imshow(b_img)\npylab.title('Node Weighted Watershed')\n\n\npylab.show()"
      ]
    }
  ],
  "nbformat": 4
}