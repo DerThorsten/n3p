{
  "metadata": {
    "kernelspec": {
      "display_name": "Python 3",
      "language": "python",
      "name": "python3"
    },
    "language_info": {
      "nbconvert_exporter": "python",
      "version": "3.5.3",
      "codemirror_mode": {
        "version": 3,
        "name": "ipython"
      },
      "mimetype": "text/x-python",
      "file_extension": ".py",
      "pygments_lexer": "ipython3",
      "name": "python"
    }
  },
  "nbformat": 4,
  "cells": [
    {
      "metadata": {
        "collapsed": false
      },
      "cell_type": "code",
      "execution_count": null,
      "source": [
        "%matplotlib inline"
      ],
      "outputs": []
    },
    {
      "metadata": {},
      "cell_type": "markdown",
      "source": [
        "\nMulticut Logging Visitor \n=============================================\n\nCompare multicut solvers on a graph\nwith a random topology and random edge weights.\n\nThis example is NOT about the actual energies\nand runtimes since these random graphs with\nrandom weights are not very insightful.\nFurthermore the problem is to small\nto let CPLEX shine in comparison to GLPK.\nHere we want to show how to run solvers\nand log the runtime / energies.\n\n\n"
      ]
    },
    {
      "metadata": {
        "collapsed": false
      },
      "cell_type": "code",
      "execution_count": null,
      "source": [
        "from __future__ import print_function\n\n# numpy\nimport numpy\n\n# Plotting\nimport pylab                \n       \n# nifty\nimport nifty\nimport nifty.graph.optimization.multicut  as nifty_multicut  \n\n\n# a toy graph with random\n# topology\nnumberOfNodes = 100\napproxNumberOfEdges = 200\n\n# random edges\nuvIds = numpy.random.randint(low=0, high=numberOfNodes-1, size=approxNumberOfEdges*2)\nuvIds = uvIds.reshape([-1,2])\nuvIds = uvIds[uvIds[:,0]!=uvIds[:,1],:]\n\n# setup graph\nGraph = nifty.graph.UndirectedGraph\ngraph = Graph(numberOfNodes)\ngraph.insertEdges(uvIds)\n\n# random edge weights\nweights = numpy.random.rand(graph.numberOfEdges) -0.5\n\n\n# construct a multicut objective\nMulticutObjective = Graph.MulticutObjective\n# the actual class of the objective\nassert MulticutObjective == nifty_multicut.MulticutObjectiveUndirectedGraph\n\nobjective = MulticutObjective(graph, weights)\n\n\n\ndef runSolver(solverFactory):\n    \"\"\" run solver and return energies and runtimes\"\"\"\n    loggingVisitor = MulticutObjective.loggingVisitor(visitNth=1,verbose=0)\n    solver = solverFactory.create(objective)\n    result = solver.optimize(loggingVisitor)\n    energies = loggingVisitor.energies()\n    runtimes = loggingVisitor.runtimes()\n    return energies,runtimes\n\n\n# store results for each solver\nresults = dict()\n\n# greedy-additive\nsolverFactory = MulticutObjective.greedyAdditiveFactory()\n# same as above but very verbose\nif False:\n    solverFactory = nifty_multicut.MulticutObjectiveUndirectedGraph.greedyAdditiveFactory()\n\n\nresults['greedy-additive'] = runSolver(solverFactory)\n\nif nifty.Configuration.WITH_QPBO:\n\n    # cgc\n    solverFactory = MulticutObjective.cgcFactory(True,True)\n    results['cgc-qpbo'] = runSolver(solverFactory)\n\n    # greedy-additive + cgc\n    solverFactory = MulticutObjective.chainedSolversFactory([\n        MulticutObjective.greedyAdditiveFactory(),\n        MulticutObjective.cgcFactory(True,True)\n    ])\n    results['greedy-additive + cgc-qpbo'] = runSolver(solverFactory)\n\n\nif nifty.Configuration.WITH_CPLEX:\n    solverFactory = MulticutObjective.multicutIlpCplexFactory()\n    results['ilp-cplex'] = runSolver(solverFactory)\n\nif nifty.Configuration.WITH_GUROBI:\n    solverFactory = MulticutObjective.multicutIlpGurobiFactory()\n    results['ilp-gurbi'] = runSolver(solverFactory)\n\nif nifty.Configuration.WITH_GLPK:\n    solverFactory = MulticutObjective.multicutIlpGlpkFactory()\n    results['ilp-glpk'] = runSolver(solverFactory)\n\n# plot the results\n\n# increase default figure size\na,b = pylab.rcParams['figure.figsize']\npylab.rcParams['figure.figsize'] = 1.5*a, 1.5*b\n\nfor key in results.keys():\n    (runtimes,energies) = results[key]\n    pylab.semilogx(energies, runtimes, label=key, marker='o')\n\npylab.title('Multicut Solver Comparison on Toy Graph')\npylab.xlabel('Runtime [s]')\npylab.ylabel('Energy')\npylab.legend()\npylab.show()"
      ],
      "outputs": []
    }
  ],
  "nbformat_minor": 0
}