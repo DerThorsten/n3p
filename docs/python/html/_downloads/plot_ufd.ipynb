{
  "nbformat": 4,
  "metadata": {
    "language_info": {
      "mimetype": "text/x-python",
      "version": "3.5.3",
      "name": "python",
      "pygments_lexer": "ipython3",
      "file_extension": ".py",
      "nbconvert_exporter": "python",
      "codemirror_mode": {
        "version": 3,
        "name": "ipython"
      }
    },
    "kernelspec": {
      "language": "python",
      "name": "python3",
      "display_name": "Python 3"
    }
  },
  "cells": [
    {
      "source": [
        "%matplotlib inline"
      ],
      "outputs": [],
      "metadata": {
        "collapsed": false
      },
      "execution_count": null,
      "cell_type": "code"
    },
    {
      "source": [
        "\nUnion-Find Data Structure\n================================\n\nThe wikipedia definition of union find data structure is excellent\ntherefore we will just cite it here:\n\n    In computer science, \n    a disjoint-set data structure, \n    also called a union\u2013find data structure or merge\u2013find set, \n    is a data structure that keeps track of a set of elements \n    partitioned into a number of disjoint (non-overlapping) subsets. \n    It provides near-constant-time operations (bounded by the inverse Ackermann function) to add new sets, \n    to merge existing sets, \n    and to determine whether elements are in the same set. In addition to many other uses (see the Applications section), \n    disjoint-sets play a key role in Kruskal's algorithm for finding the minimum spanning tree of a graph.\n\nIn this example we show how to use a fast UFD implementation.\n\n\n\n"
      ],
      "metadata": {},
      "cell_type": "markdown"
    },
    {
      "source": [
        "import numpy\nimport nifty.ufd\n\n\n\n# create a ufd with 10 elements\nufd = nifty.ufd.ufd(size=10)\n\n# initially all elements are in their own set\nassert ufd.numberOfSets == ufd.numberOfElements\nprint(\"NumberOfSets\", ufd.numberOfSets)\nprint(\"NumberOfElements\", ufd.numberOfElements)\n\n\n# \nfor element in range(10):\n    print(\"find %d  = \"%element, ufd.find(element))\n\n\n# do a merge\nprint(\"merge 2 and 3\")\nufd.merge(2,3)\nprint(\"NumberOfSets\", ufd.numberOfSets)\n\n\n# element 2 and 3 are now in the same set\nassert ufd.find(2) == ufd.find(3)\n\n# find can also be called \n# in a vectorized fashion\n# this is way faster for \n# if a large number of elements\n# should be found\ntoFind = numpy.array([2,3])\nprint(\"find [2, 3] = \",ufd.find(toFind))\n\n\n# elment merging can also be done in a \n# a vectorized fashion\n# here we merge 4 with 5  and also\n# 7 with \nprint(\"merge 2 with 3 and 7 with 8\")\ntoMerge  = numpy.array([[4,5], [7,8]], dtype='uint64')\nufd.merge(toMerge)\nassert ufd.find(4) == ufd.find(5)\nassert ufd.find(7) == ufd.find(8)\nprint(\"NumberOfSets\", ufd.numberOfSets)\n\n# find all elements\nsetIds = ufd.find(numpy.arange(ufd.numberOfElements))\nfor element in range(10):\n    print(\"find %d  = \"%element, ufd.find(setIds[element]))\n\n\n# if we now merge 3 and 4\n# 2 and 5 are merged transitively\nufd.merge(3,4)\nassert ufd.find(3) == ufd.find(4)\nassert ufd.find(2) == ufd.find(5)\n\n\nprint(ufd.find(numpy.arange(ufd.numberOfElements)))"
      ],
      "outputs": [],
      "metadata": {
        "collapsed": false
      },
      "execution_count": null,
      "cell_type": "code"
    }
  ],
  "nbformat_minor": 0
}