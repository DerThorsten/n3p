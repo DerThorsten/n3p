{
  "metadata": {
    "kernelspec": {
      "name": "python3",
      "display_name": "Python 3",
      "language": "python"
    },
    "language_info": {
      "name": "python",
      "codemirror_mode": {
        "name": "ipython",
        "version": 3
      },
      "version": "3.5.3",
      "pygments_lexer": "ipython3",
      "file_extension": ".py",
      "mimetype": "text/x-python",
      "nbconvert_exporter": "python"
    }
  },
  "nbformat_minor": 0,
  "cells": [
    {
      "execution_count": null,
      "cell_type": "code",
      "metadata": {
        "collapsed": false
      },
      "outputs": [],
      "source": [
        "%matplotlib inline"
      ]
    },
    {
      "metadata": {},
      "cell_type": "markdown",
      "source": [
        "\nHelpers for examples\n====================================\n\nHelper functions shared by examples\n\n"
      ]
    },
    {
      "execution_count": null,
      "cell_type": "code",
      "metadata": {
        "collapsed": false
      },
      "outputs": [],
      "source": [
        "import pylab\n\n# increase default figure size\n\na,b = pylab.rcParams['figure.figsize']\npylab.rcParams['figure.figsize'] = 1.5*a, 1.5*b\n\n\ndef randColorMap(size, zeroToZeros=True):\n    r = numpy.random.rand ( size,3)\n    if zeroToZeros:\n        r[0,:] = 0\n    return matplotlib.colors.ListedColormap ( r)"
      ]
    }
  ],
  "nbformat": 4
}