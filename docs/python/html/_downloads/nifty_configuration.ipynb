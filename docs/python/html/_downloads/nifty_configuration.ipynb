{
  "metadata": {
    "language_info": {
      "file_extension": ".py",
      "pygments_lexer": "ipython3",
      "name": "python",
      "codemirror_mode": {
        "version": 3,
        "name": "ipython"
      },
      "version": "3.5.3",
      "mimetype": "text/x-python",
      "nbconvert_exporter": "python"
    },
    "kernelspec": {
      "language": "python",
      "display_name": "Python 3",
      "name": "python3"
    }
  },
  "nbformat": 4,
  "cells": [
    {
      "outputs": [],
      "cell_type": "code",
      "metadata": {
        "collapsed": false
      },
      "source": [
        "%matplotlib inline"
      ],
      "execution_count": null
    },
    {
      "source": [
        "\nConfiguration\n====================================\n\nNifty can be build optional components \nwith certain optional dependencies.\nThis example show how to check\nthis build configuration.\n\n"
      ],
      "cell_type": "markdown",
      "metadata": {}
    },
    {
      "outputs": [],
      "cell_type": "code",
      "metadata": {
        "collapsed": false
      },
      "source": [
        "from __future__ import print_function\nimport nifty\n\n\nprint(\"WITH_QPBO\", nifty.Configuration.WITH_QPBO)\nprint(\"WITH_CPLEX\", nifty.Configuration.WITH_CPLEX)\nprint(\"WITH_GURPBI\", nifty.Configuration.WITH_GUROBI)\nprint(\"WITH_GLPK\", nifty.Configuration.WITH_GLPK)\nprint(\"WITH_HDF5\", nifty.Configuration.WITH_HDF5)\nprint(\"WITH_LP_MP\", nifty.Configuration.WITH_LP_MP)"
      ],
      "execution_count": null
    }
  ],
  "nbformat_minor": 0
}