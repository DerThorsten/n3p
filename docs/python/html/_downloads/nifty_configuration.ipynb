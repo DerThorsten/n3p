{
  "metadata": {
    "language_info": {
      "version": "3.5.3",
      "mimetype": "text/x-python",
      "codemirror_mode": {
        "version": 3,
        "name": "ipython"
      },
      "pygments_lexer": "ipython3",
      "file_extension": ".py",
      "name": "python",
      "nbconvert_exporter": "python"
    },
    "kernelspec": {
      "display_name": "Python 3",
      "name": "python3",
      "language": "python"
    }
  },
  "cells": [
    {
      "metadata": {
        "collapsed": false
      },
      "execution_count": null,
      "outputs": [],
      "source": [
        "%matplotlib inline"
      ],
      "cell_type": "code"
    },
    {
      "metadata": {},
      "source": [
        "\nConfiguration\n====================================\n\nNifty can be build optional components \nwith certain optional dependencies.\nThis example show how to check\nthis build configuration.\n\n"
      ],
      "cell_type": "markdown"
    },
    {
      "metadata": {
        "collapsed": false
      },
      "execution_count": null,
      "outputs": [],
      "source": [
        "from __future__ import print_function\nimport nifty\n\n\nprint(\"WITH_QPBO\", nifty.Configuration.WITH_QPBO)\nprint(\"WITH_CPLEX\", nifty.Configuration.WITH_CPLEX)\nprint(\"WITH_GURPBI\", nifty.Configuration.WITH_GUROBI)\nprint(\"WITH_GLPK\", nifty.Configuration.WITH_GLPK)\nprint(\"WITH_HDF5\", nifty.Configuration.WITH_HDF5)\nprint(\"WITH_LP_MP\", nifty.Configuration.WITH_LP_MP)"
      ],
      "cell_type": "code"
    }
  ],
  "nbformat_minor": 0,
  "nbformat": 4
}