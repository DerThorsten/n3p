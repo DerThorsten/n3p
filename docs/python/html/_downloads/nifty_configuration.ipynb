{
  "nbformat": 4,
  "nbformat_minor": 0,
  "metadata": {
    "language_info": {
      "nbconvert_exporter": "python",
      "pygments_lexer": "ipython3",
      "version": "3.5.3",
      "mimetype": "text/x-python",
      "file_extension": ".py",
      "name": "python",
      "codemirror_mode": {
        "name": "ipython",
        "version": 3
      }
    },
    "kernelspec": {
      "display_name": "Python 3",
      "language": "python",
      "name": "python3"
    }
  },
  "cells": [
    {
      "source": [
        "%matplotlib inline"
      ],
      "cell_type": "code",
      "execution_count": null,
      "metadata": {
        "collapsed": false
      },
      "outputs": []
    },
    {
      "cell_type": "markdown",
      "metadata": {},
      "source": [
        "\nConfiguration\n====================================\n\nNifty can be build optional components \nwith certain optional dependencies.\nThis example show how to check\nthis build configuration.\n\n"
      ]
    },
    {
      "source": [
        "from __future__ import print_function\nimport nifty\n\n\nprint(\"WITH_QPBO\", nifty.Configuration.WITH_QPBO)\nprint(\"WITH_CPLEX\", nifty.Configuration.WITH_CPLEX)\nprint(\"WITH_GURPBI\", nifty.Configuration.WITH_GUROBI)\nprint(\"WITH_GLPK\", nifty.Configuration.WITH_GLPK)\nprint(\"WITH_HDF5\", nifty.Configuration.WITH_HDF5)\nprint(\"WITH_LP_MP\", nifty.Configuration.WITH_LP_MP)"
      ],
      "cell_type": "code",
      "execution_count": null,
      "metadata": {
        "collapsed": false
      },
      "outputs": []
    }
  ]
}