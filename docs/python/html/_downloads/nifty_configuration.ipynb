{
  "cells": [
    {
      "cell_type": "code",
      "execution_count": null,
      "metadata": {
        "collapsed": false
      },
      "outputs": [],
      "source": [
        "%matplotlib inline"
      ]
    },
    {
      "cell_type": "markdown",
      "metadata": {},
      "source": [
        "\nConfiguration\n====================================\n\nNifty can be build optional components \nwith certain optional dependencies.\nThis example show how to check\nthis build configuration.\n\n"
      ]
    },
    {
      "cell_type": "code",
      "execution_count": null,
      "metadata": {
        "collapsed": false
      },
      "outputs": [],
      "source": [
        "from __future__ import print_function\nimport nifty\n\n\nprint(\"WITH_QPBO\", nifty.Configuration.WITH_QPBO)\nprint(\"WITH_CPLEX\", nifty.Configuration.WITH_CPLEX)\nprint(\"WITH_GURPBI\", nifty.Configuration.WITH_GUROBI)\nprint(\"WITH_GLPK\", nifty.Configuration.WITH_GLPK)\nprint(\"WITH_HDF5\", nifty.Configuration.WITH_HDF5)\nprint(\"WITH_LP_MP\", nifty.Configuration.WITH_LP_MP)"
      ]
    }
  ],
  "metadata": {
    "kernelspec": {
      "display_name": "Python 3",
      "language": "python",
      "name": "python3"
    },
    "language_info": {
      "codemirror_mode": {
        "name": "ipython",
        "version": 3
      },
      "file_extension": ".py",
      "mimetype": "text/x-python",
      "name": "python",
      "nbconvert_exporter": "python",
      "pygments_lexer": "ipython3",
      "version": "3.6.1"
    }
  },
  "nbformat": 4,
  "nbformat_minor": 0
}