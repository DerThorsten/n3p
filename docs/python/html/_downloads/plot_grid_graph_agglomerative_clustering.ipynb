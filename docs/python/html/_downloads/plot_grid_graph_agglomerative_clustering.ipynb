{
  "nbformat": 4,
  "metadata": {
    "language_info": {
      "mimetype": "text/x-python",
      "version": "3.5.3",
      "name": "python",
      "pygments_lexer": "ipython3",
      "file_extension": ".py",
      "nbconvert_exporter": "python",
      "codemirror_mode": {
        "version": 3,
        "name": "ipython"
      }
    },
    "kernelspec": {
      "language": "python",
      "name": "python3",
      "display_name": "Python 3"
    }
  },
  "cells": [
    {
      "source": [
        "%matplotlib inline"
      ],
      "outputs": [],
      "metadata": {
        "collapsed": false
      },
      "execution_count": null,
      "cell_type": "code"
    },
    {
      "source": [
        "\nAgglomerative clustering on grid graph\n========================================\n\nCompare edge weighted watersheds\nand node weighted on a grid graph.\n\n"
      ],
      "metadata": {},
      "cell_type": "markdown"
    },
    {
      "source": [
        "sphinx_gallery_thumbnail_number = 1\n\n"
      ],
      "metadata": {},
      "cell_type": "markdown"
    },
    {
      "source": [
        "from __future__ import print_function\n\nimport nifty.graph\nimport nifty.graph.agglo\nimport skimage.data \nimport skimage.segmentation \nimport vigra\nimport matplotlib\nimport pylab\nimport numpy\n\n# increase default figure size\na,b = pylab.rcParams['figure.figsize']\npylab.rcParams['figure.figsize'] = 2.0*a, 2.0*b"
      ],
      "outputs": [],
      "metadata": {
        "collapsed": false
      },
      "execution_count": null,
      "cell_type": "code"
    },
    {
      "source": [
        "load some image\n\n"
      ],
      "metadata": {},
      "cell_type": "markdown"
    },
    {
      "source": [
        "img = skimage.data.coins().astype('float32')\nshape = img.shape[0:2]\n#plot the image\n# pylab.imshow(img/255)\n# pylab.show()"
      ],
      "outputs": [],
      "metadata": {
        "collapsed": false
      },
      "execution_count": null,
      "cell_type": "code"
    },
    {
      "source": [
        "grid graph\n\n"
      ],
      "metadata": {},
      "cell_type": "markdown"
    },
    {
      "source": [
        "gridGraph = nifty.graph.undirectedGridGraph(shape)"
      ],
      "outputs": [],
      "metadata": {
        "collapsed": false
      },
      "execution_count": null,
      "cell_type": "code"
    },
    {
      "source": [
        "the edge weights for a grid graph work\nbest if we use interpixel weights.\nTherefore we need to resample the\nimage.\nOn the resampled image, an edge indicator \nis computed\n\n"
      ],
      "metadata": {},
      "cell_type": "markdown"
    },
    {
      "source": [
        "interpixelShape = [2*s-1 for s in shape]\n\n# to vigra\ntags = ['xy','xyz'][img.ndim-2]\nvigraImg = vigra.taggedView(img, tags)\nimgBig = vigra.sampling.resize(vigraImg, interpixelShape)\nedgeStrength = vigra.filters.gaussianGradientMagnitude(imgBig, 2.0)\nedgeStrength = edgeStrength.squeeze()\nedgeStrength = numpy.array(edgeStrength)\ngridGraphEdgeStrength = gridGraph.imageToEdgeMap(edgeStrength, mode='interpixel')"
      ],
      "outputs": [],
      "metadata": {
        "collapsed": false
      },
      "execution_count": null,
      "cell_type": "code"
    },
    {
      "source": [
        "run agglomerative clustering\n\n"
      ],
      "metadata": {},
      "cell_type": "markdown"
    },
    {
      "source": [
        "edgeSizes = numpy.ones(gridGraph.edgeIdUpperBound +1)\nnodeSizes = numpy.ones(gridGraph.nodeIdUpperBound +1)\nclusterPolicy = nifty.graph.agglo.edgeWeightedClusterPolicy(\n    graph=gridGraph, edgeIndicators=gridGraphEdgeStrength,\n    edgeSizes=edgeSizes, nodeSizes=nodeSizes,\n    numberOfNodesStop=25, sizeRegularizer=0.35)\nagglomerativeClustering = nifty.graph.agglo.agglomerativeClustering(clusterPolicy) \nagglomerativeClustering.run()\nseg = agglomerativeClustering.result()\nseg = seg.reshape(shape)"
      ],
      "outputs": [],
      "metadata": {
        "collapsed": false
      },
      "execution_count": null,
      "cell_type": "code"
    },
    {
      "source": [
        "plot results\n\n"
      ],
      "metadata": {},
      "cell_type": "markdown"
    },
    {
      "source": [
        "b_img = skimage.segmentation.mark_boundaries(img/255, \n        seg.astype('uint32'), mode='inner', color=(0.1,0.1,0.2))\npylab.imshow(b_img)\npylab.title('Segmentation')\npylab.show()"
      ],
      "outputs": [],
      "metadata": {
        "collapsed": false
      },
      "execution_count": null,
      "cell_type": "code"
    }
  ],
  "nbformat_minor": 0
}