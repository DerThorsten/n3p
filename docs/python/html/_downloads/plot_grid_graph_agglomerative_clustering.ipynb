{
  "cells": [
    {
      "cell_type": "code",
      "execution_count": null,
      "metadata": {
        "collapsed": false
      },
      "outputs": [],
      "source": [
        "%matplotlib inline"
      ]
    },
    {
      "cell_type": "markdown",
      "metadata": {},
      "source": [
        "\nAgglomerative clustering on grid graph\n========================================\n\nCompare edge weighted watersheds\nand node weighted on a grid graph.\n\n"
      ]
    },
    {
      "cell_type": "markdown",
      "metadata": {},
      "source": [
        "sphinx_gallery_thumbnail_number = 1\n\n"
      ]
    },
    {
      "cell_type": "code",
      "execution_count": null,
      "metadata": {
        "collapsed": false
      },
      "outputs": [],
      "source": [
        "from __future__ import print_function\n\nimport nifty.graph\nimport nifty.graph.agglo\nimport skimage.data \nimport skimage.segmentation \nimport vigra\nimport matplotlib\nimport pylab\nimport numpy\n\n# increase default figure size\na,b = pylab.rcParams['figure.figsize']\npylab.rcParams['figure.figsize'] = 2.0*a, 2.0*b"
      ]
    },
    {
      "cell_type": "markdown",
      "metadata": {},
      "source": [
        "load some image\n\n"
      ]
    },
    {
      "cell_type": "code",
      "execution_count": null,
      "metadata": {
        "collapsed": false
      },
      "outputs": [],
      "source": [
        "img = skimage.data.coins().astype('float32')\nshape = img.shape[0:2]\n#plot the image\n# pylab.imshow(img/255)\n# pylab.show()"
      ]
    },
    {
      "cell_type": "markdown",
      "metadata": {},
      "source": [
        "grid graph\n\n"
      ]
    },
    {
      "cell_type": "code",
      "execution_count": null,
      "metadata": {
        "collapsed": false
      },
      "outputs": [],
      "source": [
        "gridGraph = nifty.graph.undirectedGridGraph(shape)"
      ]
    },
    {
      "cell_type": "markdown",
      "metadata": {},
      "source": [
        "the edge weights for a grid graph work\nbest if we use interpixel weights.\nTherefore we need to resample the\nimage.\nOn the resampled image, an edge indicator \nis computed\n\n"
      ]
    },
    {
      "cell_type": "code",
      "execution_count": null,
      "metadata": {
        "collapsed": false
      },
      "outputs": [],
      "source": [
        "interpixelShape = [2*s-1 for s in shape]\n\n# to vigra\ntags = ['xy','xyz'][img.ndim-2]\nvigraImg = vigra.taggedView(img, tags)\nimgBig = vigra.sampling.resize(vigraImg, interpixelShape)\nedgeStrength = vigra.filters.gaussianGradientMagnitude(imgBig, 2.0)\nedgeStrength = edgeStrength.squeeze()\nedgeStrength = numpy.array(edgeStrength)\ngridGraphEdgeStrength = gridGraph.imageToEdgeMap(edgeStrength, mode='interpixel')"
      ]
    },
    {
      "cell_type": "markdown",
      "metadata": {},
      "source": [
        "run agglomerative clustering\n\n"
      ]
    },
    {
      "cell_type": "code",
      "execution_count": null,
      "metadata": {
        "collapsed": false
      },
      "outputs": [],
      "source": [
        "edgeSizes = numpy.ones(gridGraph.edgeIdUpperBound +1)\nnodeSizes = numpy.ones(gridGraph.nodeIdUpperBound +1)\nclusterPolicy = nifty.graph.agglo.edgeWeightedClusterPolicy(\n    graph=gridGraph, edgeIndicators=gridGraphEdgeStrength,\n    edgeSizes=edgeSizes, nodeSizes=nodeSizes,\n    numberOfNodesStop=25, sizeRegularizer=0.35)\nagglomerativeClustering = nifty.graph.agglo.agglomerativeClustering(clusterPolicy) \nagglomerativeClustering.run()\nseg = agglomerativeClustering.result()\nseg = seg.reshape(shape)"
      ]
    },
    {
      "cell_type": "markdown",
      "metadata": {},
      "source": [
        "plot results\n\n"
      ]
    },
    {
      "cell_type": "code",
      "execution_count": null,
      "metadata": {
        "collapsed": false
      },
      "outputs": [],
      "source": [
        "b_img = skimage.segmentation.mark_boundaries(img/255, \n        seg.astype('uint32'), mode='inner', color=(0.1,0.1,0.2))\npylab.imshow(b_img)\npylab.title('Segmentation')\npylab.show()"
      ]
    }
  ],
  "metadata": {
    "kernelspec": {
      "display_name": "Python 3",
      "language": "python",
      "name": "python3"
    },
    "language_info": {
      "codemirror_mode": {
        "name": "ipython",
        "version": 3
      },
      "file_extension": ".py",
      "mimetype": "text/x-python",
      "name": "python",
      "nbconvert_exporter": "python",
      "pygments_lexer": "ipython3",
      "version": "3.6.2"
    }
  },
  "nbformat": 4,
  "nbformat_minor": 0
}