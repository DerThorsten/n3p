{
  "nbformat": 4,
  "cells": [
    {
      "cell_type": "code",
      "source": [
        "%matplotlib inline"
      ],
      "outputs": [],
      "execution_count": null,
      "metadata": {
        "collapsed": false
      }
    },
    {
      "cell_type": "markdown",
      "source": [
        "\nCgp Cartesian Grid Partitioning 2D\n====================================\n\nAn introduction into the cgp.\n\n"
      ],
      "metadata": {}
    },
    {
      "cell_type": "code",
      "source": [
        "# sphinx_gallery_thumbnail_number = 5\nfrom __future__ import print_function, division\n\n\nimport numpy\nimport scipy\n\n# skimage\nimport skimage.filters       # filters\nimport skimage.segmentation  # Superpixels\nimport skimage.data          # Data\nimport skimage.color         # rgb2Gray\n\n# pylab\nimport pylab                # Plotting\nimport matplotlib\n\n# increase default figure size\na,b = pylab.rcParams['figure.figsize']\npylab.rcParams['figure.figsize'] = 2.0*a, 2.0*b\n    \n\nimport sys; sys.path.append(\"/home/tbeier/bld/nifty/python/\")\n# nifty\nimport nifty\nimport nifty.cgp     \n\ncellNames = ['Junctions','Edges','Regions']"
      ],
      "outputs": [],
      "execution_count": null,
      "metadata": {
        "collapsed": false
      }
    },
    {
      "cell_type": "markdown",
      "source": [
        "Load image and compute over-segmentation\n\n"
      ],
      "metadata": {}
    },
    {
      "cell_type": "code",
      "source": [
        "img = skimage.data.coins()[10:80,10:80].astype('float32')/255\npylab.imshow(img)\npylab.show()\n\n# img is a gray value image \n# to use it as a rgb img we just \n# repeat the gray value\nimgRGB = numpy.concatenate([img[...,None]]*3,axis=2)"
      ],
      "outputs": [],
      "execution_count": null,
      "metadata": {
        "collapsed": false
      }
    },
    {
      "cell_type": "markdown",
      "source": [
        "Superpixels\n\n"
      ],
      "metadata": {}
    },
    {
      "cell_type": "code",
      "source": [
        "overseg = skimage.segmentation.slic(img, n_segments=50,\n    compactness=0.04, sigma=1)\n# let overseg start from 1\noverseg += 1 \nassert overseg.min() == 1\ncmap = numpy.random.rand ( overseg.max()+1,3)\ncmap = matplotlib.colors.ListedColormap(cmap)\npylab.imshow(overseg, cmap=cmap)\npylab.show()"
      ],
      "outputs": [],
      "execution_count": null,
      "metadata": {
        "collapsed": false
      }
    },
    {
      "cell_type": "markdown",
      "source": [
        "Compute cgp / topological grid \n\n"
      ],
      "metadata": {}
    },
    {
      "cell_type": "code",
      "source": [
        "tgrid = nifty.cgp.TopologicalGrid2D(overseg)"
      ],
      "outputs": [],
      "execution_count": null,
      "metadata": {
        "collapsed": false
      }
    },
    {
      "cell_type": "markdown",
      "source": [
        "Get the geometry of the cell-complex\n\n"
      ],
      "metadata": {}
    },
    {
      "cell_type": "code",
      "source": [
        "cellGeometry = tgrid.extractCellsGeometry()\n\n\ncell0Geomtry = cellGeometry[0]\ncell1Geomtry = cellGeometry[1]\ncell2Geomtry = cellGeometry[2]\n\n# coordinates of some specific 1 cell\ncell1Index = tgrid.numberOfCells[1]//2\ncoordinates  = cell1Geomtry[cell1Index]\n\n# cast coordinates to numpy array\ncoordinates  = numpy.array(coordinates)\n\n# the coordinates are interpixel-coordinates\n# to convert them to normal pixels\n# we need divide them by 2\n# This will lead to non integer coordinates.\n# Floor and ceil will lead to integer coordinates\ncCoords = numpy.ceil(coordinates/2).astype('uint32')\nfCoords = numpy.floor(coordinates/2).astype('uint32')\ncoords = numpy.concatenate([cCoords,fCoords], axis=0)\n\n# write into image\npixelImg = imgRGB.copy()\npixelImg[coords[:,0], coords[:,1]  ,:] = 255,0,0\n\n\n# we can also use the \n# interpixel-coordinates directly\ntopologicalGridShape = tgrid.topologicalGridShape\nprint(\"shape\",tgrid.shape, \"topologicalGridShape\",topologicalGridShape)\ninterPixelImg = scipy.misc.imresize(imgRGB, topologicalGridShape)\ninterPixelImg[coordinates[:,0], coordinates[:,1],:] = 255,0,0\n\nf = pylab.figure()\nf.add_subplot(1, 2, 1)\npylab.imshow(pixelImg,cmap='gray')\npylab.title('Pixel coordinates')\nf.add_subplot(1, 2, 2)\npylab.imshow(interPixelImg,cmap='gray')\npylab.title('Interpixel coordinates')\npylab.show()"
      ],
      "outputs": [],
      "execution_count": null,
      "metadata": {
        "collapsed": false
      }
    },
    {
      "cell_type": "markdown",
      "source": [
        "get the bounds and bounded by\nrelations\n\n"
      ],
      "metadata": {}
    },
    {
      "cell_type": "code",
      "source": [
        "cellBounds = tgrid.extractCellsBounds()\n\n# this gives you the boundaries (1-cells)\n# of a certain junction (0-cell)\ncell0Bounds = cellBounds[0]\n\n# this will give us the junctions (0-cells)\n# of a certain boundary (1-cell)\ncell1BoundedBy = cell0Bounds.reverseMapping()\n\n# get the labels junctions of a particular\n# boundary (1-cel)\n# Important: Labels start at 1, indexes\n# start at 0.\n# Bounds/ bounded by returns labels!.\ncell0Labels = cell1BoundedBy[cell1Index]\ncell0Indices = numpy.array(cell0Labels) - 1\n\n\nfor cell0Index in cell0Indices:\n\n\n\n    # iterate over the boundaries of this junction\n    cell1Labels = cell0Bounds[cell0Index]\n    otherCell1Indices = numpy.array(cell1Labels) - 1\n\n    for otherCell1Index in otherCell1Indices:\n        if otherCell1Index != cell1Index:\n\n\n            coords  = numpy.array(cell1Geomtry[otherCell1Index])\n            interPixelImg[coords[:,0], coords[:,1]  ,:] = 0,0,255\n            cCoords = numpy.ceil(coords/2).astype('uint32')\n            fCoords = numpy.floor(coords/2).astype('uint32')\n            coords = numpy.concatenate([cCoords,fCoords], axis=0)\n            pixelImg[coords[:,0], coords[:,1]  ,:] = 0,0,255\n\n\n\n    # junctions only have a single coordinate\n    # in supixels coordinates\n    coord = cell0Geomtry[cell0Index][0]\n    interPixelImg[coord[0], coord[1], :] = (0,255,0)\n\n    # in the image, this are 4 pixels\n    pixelImg[coord[0]//2, coord[1]//2, :] = (0,255,0)\n    pixelImg[coord[0]//2, coord[1]//2+1, :] = (0,255,0)\n    pixelImg[coord[0]//2+1, coord[1]//2, :] = (0,255,0)\n    pixelImg[coord[0]//2+1, coord[1]//2+1, :] = (0,255,0)\n\n\n\nf = pylab.figure()\nf.add_subplot(1, 2, 1)\npylab.imshow(pixelImg,cmap='gray')\npylab.title('Pixel coordinates')\nf.add_subplot(1, 2, 2)\npylab.imshow(interPixelImg,cmap='gray')\npylab.title('Interpixel coordinates')\npylab.show()"
      ],
      "outputs": [],
      "execution_count": null,
      "metadata": {
        "collapsed": false
      }
    },
    {
      "cell_type": "markdown",
      "source": [
        "Show all cells labels at once\n\n"
      ],
      "metadata": {}
    },
    {
      "cell_type": "code",
      "source": [
        "ftgrid = nifty.cgp.FilledTopologicalGrid2D(tgrid)\nf = pylab.figure()\n\nf.add_subplot(2, 2, 1)\npylab.imshow(img,cmap='gray')\npylab.title('Raw Data')\ncmap = numpy.random.rand ( 100000,3)\ncmap[0,:] = 0\ncmap = matplotlib.colors.ListedColormap(cmap)\nfor i,cellType in enumerate((2,1,0)):\n    showCells = [False,False,False]\n    showCells[cellType] = True\n    cellMask = ftgrid.cellMask(showCells)\n    cellMask[cellMask!=0] -=  ftgrid.cellTypeOffset[cellType]\n\n    f.add_subplot(2, 2, i+2)\n    pylab.imshow(cellMask,cmap=cmap)\n    pylab.title('Cell-%d Labels / \\n%s Labels '%(cellType,cellNames[cellType] )  )\npylab.show()"
      ],
      "outputs": [],
      "execution_count": null,
      "metadata": {
        "collapsed": false
      }
    }
  ],
  "nbformat_minor": 0,
  "metadata": {
    "kernelspec": {
      "language": "python",
      "name": "python3",
      "display_name": "Python 3"
    },
    "language_info": {
      "codemirror_mode": {
        "version": 3,
        "name": "ipython"
      },
      "nbconvert_exporter": "python",
      "version": "3.5.3",
      "file_extension": ".py",
      "mimetype": "text/x-python",
      "name": "python",
      "pygments_lexer": "ipython3"
    }
  }
}