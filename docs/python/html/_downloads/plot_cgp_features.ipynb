{
  "nbformat": 4,
  "metadata": {
    "language_info": {
      "mimetype": "text/x-python",
      "version": "3.5.3",
      "name": "python",
      "pygments_lexer": "ipython3",
      "file_extension": ".py",
      "nbconvert_exporter": "python",
      "codemirror_mode": {
        "version": 3,
        "name": "ipython"
      }
    },
    "kernelspec": {
      "language": "python",
      "name": "python3",
      "display_name": "Python 3"
    }
  },
  "cells": [
    {
      "source": [
        "%matplotlib inline"
      ],
      "outputs": [],
      "metadata": {
        "collapsed": false
      },
      "execution_count": null,
      "cell_type": "code"
    },
    {
      "source": [
        "\nCell 1 Features\n====================================\n\nCompute features for 1-cells\n\n"
      ],
      "metadata": {},
      "cell_type": "markdown"
    },
    {
      "source": [
        "# sphinx_gallery_thumbnail_number = 1\n\nfrom __future__ import print_function, division\n\nimport nifty.cgp as ncgp\nimport nifty.segmentation as nseg\n\nimport skimage.data    as sdata\nimport skimage.filters as sfilt\n\n# plotting\nimport pylab\n\n\n# get data\nimg = sdata.coins()\n\n# edge indicator\nedgeIndicator = sfilt.prewitt(sfilt.gaussian(img, 3))\n\n# watersheds\noverseg = nseg.seededWatersheds(edgeIndicator, \n        method='node_weighted', acc='min')\n\nf = pylab.figure()\nf.add_subplot(2,2,1)\npylab.imshow(img/255)\nf.add_subplot(2,2,2)\npylab.imshow(edgeIndicator)\nf.add_subplot(2,2,3)\npylab.imshow(overseg, cmap=nseg.randomColormap(overseg.max()+1))\nf.add_subplot(2,2,4)\npylab.imshow(nseg.markBoundaries(img, overseg))\npylab.show()\n\n\n# cgp\nassert overseg.min() == 1\ntgrid = ncgp.TopologicalGrid2D(overseg)\ngeometry = tgrid.extractCellsGeometry()\nbounds = tgrid.extractCellsBounds()\nboundedBy = {1:bounds[0].reverseMapping(), \n             2:bounds[1].reverseMapping()}\n\n\n# compute features\ncell1Features, cell1FeatureNames = ncgp.cell1Features(tgrid=tgrid, geometry=geometry,\n    bounds=bounds, boundedBy=boundedBy)\n\n\nprint(cell1Features.shape)"
      ],
      "outputs": [],
      "metadata": {
        "collapsed": false
      },
      "execution_count": null,
      "cell_type": "code"
    }
  ],
  "nbformat_minor": 0
}